{
  "nbformat": 4,
  "nbformat_minor": 0,
  "metadata": {
    "colab": {
      "name": "dataset_preprocessing_batch.ipynb",
      "provenance": [],
      "collapsed_sections": []
    },
    "kernelspec": {
      "name": "python3",
      "display_name": "Python 3"
    },
    "language_info": {
      "name": "python"
    },
    "accelerator": "GPU"
  },
  "cells": [
    {
      "cell_type": "code",
      "source": [
        "from google.colab import drive\n",
        "drive.mount('/content/gdrive')"
      ],
      "metadata": {
        "colab": {
          "base_uri": "https://localhost:8080/"
        },
        "id": "Kl1341pzyZnT",
        "outputId": "b4ab0910-2678-4956-eaea-fa2852ae46c8"
      },
      "execution_count": null,
      "outputs": [
        {
          "output_type": "stream",
          "name": "stdout",
          "text": [
            "Drive already mounted at /content/gdrive; to attempt to forcibly remount, call drive.mount(\"/content/gdrive\", force_remount=True).\n"
          ]
        }
      ]
    },
    {
      "cell_type": "code",
      "source": [
        "!pip install Pillow Mat4py matplotlib scikit-learn Numpy PyWavelets torch --quiet"
      ],
      "metadata": {
        "id": "yY9SuRkp3_jQ"
      },
      "execution_count": null,
      "outputs": []
    },
    {
      "cell_type": "code",
      "source": [
        "import os\n",
        "import PIL.Image\n",
        "from mat4py import loadmat\n",
        "import PIL\n",
        "import matplotlib.pyplot as plt\n",
        "from sklearn import covariance\n",
        "import sklearn\n",
        "import numpy as np\n",
        "import pywt\n",
        "import statistics\n",
        "import torch\n",
        "import tensorflow as tf"
      ],
      "metadata": {
        "id": "oVm1ER2R4jRV"
      },
      "execution_count": null,
      "outputs": []
    },
    {
      "cell_type": "code",
      "source": [
        "from mswavelet import MSWavelet"
      ],
      "metadata": {
        "id": "__Oh5Nfs4pY_"
      },
      "execution_count": null,
      "outputs": []
    },
    {
      "cell_type": "code",
      "source": [
        "#print(\"Torch GPU: \", torch.cuda.get_device_name(0))\n",
        "#print(\"Tensorflow GPU: \", tf.config.list_physical_devices('GPU'))\n",
        "\n",
        "rootdir = \"/content/gdrive/My Drive/MRIFreeDataset\"\n",
        "outputdir = \"/content/gdrive/My Drive/Preprocessed\"\n",
        "print(\"Rootdir\", \"exists: \\\"\"+rootdir+\"\\\"\" if os.path.exists(path=rootdir) else \"does not exist.\")\n",
        "print(\"Outputdir\", \"exists: \\\"\"+outputdir+\"\\\"\" if os.path.exists(path=outputdir) else \"does not exist.\")"
      ],
      "metadata": {
        "colab": {
          "base_uri": "https://localhost:8080/"
        },
        "id": "emS-wj8lnuz5",
        "outputId": "a256a8dc-f68b-4b89-fda0-fa8d3a9c8adc"
      },
      "execution_count": null,
      "outputs": [
        {
          "output_type": "stream",
          "name": "stdout",
          "text": [
            "Rootdir exists: \"/content/gdrive/My Drive/MRIFreeDataset\"\n",
            "Outputdir does not exist.\n"
          ]
        }
      ]
    },
    {
      "cell_type": "code",
      "source": [
        "# Demo\n",
        "msw = MSWavelet(rootdir=rootdir, outputdir=outputdir)\n",
        "msw.printinfo()"
      ],
      "metadata": {
        "colab": {
          "base_uri": "https://localhost:8080/"
        },
        "id": "BBsXAgY9Pckx",
        "outputId": "789d67e3-6de8-4452-b797-b72c160979ec"
      },
      "execution_count": null,
      "outputs": [
        {
          "output_type": "stream",
          "name": "stdout",
          "text": [
            "MSWavelet arrays: \n",
            "Number of MRI scans:  1849\n",
            "Number of unhealthy MRI scans:  677\n",
            "Number of healthy MRI scans:  1172\n",
            "\n",
            "Discrete Wavelets list:  ['bior1.1', 'bior1.3', 'bior1.5', 'bior2.2', 'bior2.4', 'bior2.6', 'bior2.8', 'bior3.1', 'bior3.3', 'bior3.5', 'bior3.7', 'bior3.9', 'bior4.4', 'bior5.5', 'bior6.8', 'coif1', 'coif2', 'coif3', 'coif4', 'coif5', 'coif6', 'coif7', 'coif8', 'coif9', 'coif10', 'coif11', 'coif12', 'coif13', 'coif14', 'coif15', 'coif16', 'coif17', 'db1', 'db2', 'db3', 'db4', 'db5', 'db6', 'db7', 'db8', 'db9', 'db10', 'db11', 'db12', 'db13', 'db14', 'db15', 'db16', 'db17', 'db18', 'db19', 'db20', 'db21', 'db22', 'db23', 'db24', 'db25', 'db26', 'db27', 'db28', 'db29', 'db30', 'db31', 'db32', 'db33', 'db34', 'db35', 'db36', 'db37', 'db38', 'dmey', 'haar', 'rbio1.1', 'rbio1.3', 'rbio1.5', 'rbio2.2', 'rbio2.4', 'rbio2.6', 'rbio2.8', 'rbio3.1', 'rbio3.3', 'rbio3.5', 'rbio3.7', 'rbio3.9', 'rbio4.4', 'rbio5.5', 'rbio6.8', 'sym2', 'sym3', 'sym4', 'sym5', 'sym6', 'sym7', 'sym8', 'sym9', 'sym10', 'sym11', 'sym12', 'sym13', 'sym14', 'sym15', 'sym16', 'sym17', 'sym18', 'sym19', 'sym20']\n",
            "Continuous Wavelets list:  ['cgau1', 'cgau2', 'cgau3', 'cgau4', 'cgau5', 'cgau6', 'cgau7', 'cgau8', 'cmor', 'fbsp', 'gaus1', 'gaus2', 'gaus3', 'gaus4', 'gaus5', 'gaus6', 'gaus7', 'gaus8', 'mexh', 'morl', 'shan']\n",
            "\n"
          ]
        }
      ]
    },
    {
      "cell_type": "code",
      "source": [
        "cwtlist = [\"mexh\", \"fbsp\"]\n",
        "cwtscales = [12, 16]\n",
        "dwtlist = [\"haar\"]\n",
        "\n",
        "# Batch continuous wavelet transform and save to disk\n",
        "msw.batch_Xproc_outputdir(cwtlist, cwtscales, size=512, attach_original=True)"
      ],
      "metadata": {
        "colab": {
          "base_uri": "https://localhost:8080/"
        },
        "id": "GnPjUfvO0qem",
        "outputId": "84f78243-5581-4f76-a60b-4d74690d4e7f"
      },
      "execution_count": null,
      "outputs": [
        {
          "output_type": "stream",
          "name": "stdout",
          "text": [
            "Starting batch preprocessing phase...\n"
          ]
        },
        {
          "output_type": "stream",
          "name": "stderr",
          "text": [
            "/usr/local/lib/python3.7/dist-packages/torch/nn/functional.py:3635: UserWarning: Default upsampling behavior when mode=bilinear is changed to align_corners=False since 0.4.0. Please specify align_corners=True if the old behavior is desired. See the documentation of nn.Upsample for details.\n",
            "  \"See the documentation of nn.Upsample for details.\".format(mode)\n",
            "/usr/local/lib/python3.7/dist-packages/pywt/_cwt.py:117: FutureWarning: Wavelets of family fbsp, without parameters specified in the name are deprecated.  The name should take the form fbspM-B-C where M is the spline order and B, C are floats representing the bandwidth frequency and center frequency, respectively (example: fbsp1-1.5-1.0).\n",
            "  wavelet = DiscreteContinuousWavelet(wavelet)\n",
            "/usr/local/lib/python3.7/dist-packages/numpy/core/_asarray.py:83: ComplexWarning: Casting complex values to real discards the imaginary part\n",
            "  return array(a, dtype, copy=False, order=order)\n"
          ]
        },
        {
          "output_type": "stream",
          "name": "stdout",
          "text": [
            "Batch preprocessing finished!\n"
          ]
        }
      ]
    }
  ]
}